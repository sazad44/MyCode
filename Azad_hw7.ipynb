{
 "cells": [
  {
   "cell_type": "markdown",
   "metadata": {},
   "source": [
    "•\t(Ungraded) DataCamp Github Chapters: *Basic Work Flow* and *Repositories*; Read Guttag Ch 9-10\n",
    "(Note: You will need to complete your github.io webpage for the final exam -- I recommend you do this now and not leave it to the exam.)\n",
    "\n",
    "•\t(Graded) Below exercise. **Part I**: Scrape weather.com for zipcode 93405 scraping the following information in red, and storing it in a csv: feel's like, high, low, wind, humidity, dewpoint, pressure, and visibility. Just store the numbers (not %, mph, NE etc.). There are many ways to scrape the information, but the BeautifulSoup methods: .find(), .findall(), .text(), as well as using the list-like structure of each element scraped can accomplish it all.\n",
    "\n",
    "**Part II** Turn the scraper into a class called <span style=\"color:green\"> Weather()</span> with <span style=\"color:green\"> zip</span> as an attribute and a method that scrapes and stores the data in a csv called <span style=\"color:green\"> to_csv()</span>. Create two instances of the class for SLO and Harlem, zips 93405 and 10026. Call the method SLO.to_csv() and Harlem.to_csv(). "
   ]
  },
  {
   "cell_type": "markdown",
   "metadata": {},
   "source": [
    "# Part I"
   ]
  },
  {
   "cell_type": "code",
   "execution_count": 39,
   "metadata": {},
   "outputs": [],
   "source": [
    "# load the libraries\n",
    "import csv\n",
    "import urllib.request as url\n",
    "from bs4 import BeautifulSoup"
   ]
  },
  {
   "cell_type": "code",
   "execution_count": 40,
   "metadata": {},
   "outputs": [],
   "source": [
    "# save the file \n",
    "zip = '93405'\n",
    "# name the url\n",
    "u = \"https://weather.com/weather/today/l/\" + zip + \":4:US\"\n",
    "\n",
    "# first save the url to an html file\n",
    "url.urlretrieve(u, \"slo.html\")\n",
    "\n",
    "# now open the html file\n",
    "html = open('slo.html','r').read()\n",
    "\n",
    "# parse the html file with Beautiful Soup\n",
    "soup = BeautifulSoup(html, \"html.parser\") "
   ]
  },
  {
   "cell_type": "code",
   "execution_count": 41,
   "metadata": {},
   "outputs": [],
   "source": [
    "# scrape the temperature next to \"feels like\". Hint: look for span tag and class deg-feels\n",
    "feels_like = soup.find('span', {\"class\" : \"deg-feels\"}).text\n",
    "\n",
    "# scrape the high and low from today. Hint search for span tag and class deg-hilo-nowcard\n",
    "today = soup.find_all('span', {'class' : 'deg-hilo-nowcard'})\n",
    "high = today[0].text\n",
    "low = today[1].text\n",
    "\n",
    "# scrape wind, humidity, dewpoint, pressure and visibility. Hint: search for the td tag and class \"\"\n",
    "contents = soup.find_all('td', {'class' : ''})\n",
    "wind = contents[0].text\n",
    "humidity = contents[1].text\n",
    "dewpoint = contents[2].text\n",
    "pressure = contents[3].text\n",
    "visibility = contents[4].text"
   ]
  },
  {
   "cell_type": "code",
   "execution_count": 42,
   "metadata": {},
   "outputs": [
    {
     "name": "stdout",
     "output_type": "stream",
     "text": [
      "['93405', '51°', '--', '52°', 'W 6 mph ', '69%', '43°', '29.92 in ', '10.0 mi']\n"
     ]
    }
   ],
   "source": [
    "# open a csv file called 93405.csv\n",
    "slo = open(\"93405.csv\",'w')\n",
    "\n",
    "# create a writable excel object\n",
    "writer = csv.writer(slo, dialect='excel') # your code here\n",
    "\n",
    "# write the first row of each column as show in the above screenshot\n",
    "writer.writerow(('Zip', 'Feels Like', 'High', \"Low\", 'Wind', 'Humidity', 'DewPoint', 'Pressure', 'Visibility'))# your code here\n",
    "\n",
    "# store the data\n",
    "data = [zip, feels_like, high, low, wind, humidity, dewpoint, pressure, visibility]# your code here\n",
    "print(data)    \n",
    "# write the data to the csv \n",
    "writer.writerow(data)# your code here\n",
    "\n",
    "# close the csv file\n",
    "slo.close()"
   ]
  },
  {
   "cell_type": "markdown",
   "metadata": {},
   "source": [
    "# Part II - Now use the above code to write a class called Weather. "
   ]
  },
  {
   "cell_type": "code",
   "execution_count": 45,
   "metadata": {},
   "outputs": [],
   "source": [
    "class Weather():\n",
    "    def __init__(self, zip):\n",
    "        self.zip = str(zip)\n",
    "\n",
    "    def to_csv(self):\n",
    "        # name the url\n",
    "        u = \"https://weather.com/weather/today/l/\" + self.zip + \":4:US\"\n",
    "\n",
    "        # first save the url to an html file\n",
    "        url.urlretrieve(u, \"slo.html\")\n",
    "\n",
    "        # now open the html file\n",
    "        html = open('slo.html','r').read()\n",
    "\n",
    "        # parse the html file with Beautiful Soup\n",
    "        soup = BeautifulSoup(html, \"html.parser\") \n",
    "        # scrape the temperature next to \"feels like\". Hint: look for span tag and class deg-feels\n",
    "        feels_like = soup.find('span', {\"class\" : \"deg-feels\"}).text\n",
    "\n",
    "        # scrape the high and low from today. Hint search for span tag and class deg-hilo-nowcard\n",
    "        today = soup.find_all('span', {'class' : 'deg-hilo-nowcard'})\n",
    "        high = today[0].text\n",
    "        low = today[1].text\n",
    "    \n",
    "        # scrape wind, humidity, dewpoint, pressure and visibility. Hint: search for the td tag and class \"\"\n",
    "        contents = soup.find_all('td', {'class' : ''})\n",
    "        wind = contents[0].text\n",
    "        humidity = contents[1].text\n",
    "        dewpoint = contents[2].text\n",
    "        pressure = contents[3].text\n",
    "        visibility = contents[4].text# your code here\n",
    "        # open a csv file called 93405.csv\n",
    "        slo = open(self.zip + \".csv\",'w')\n",
    "\n",
    "        # create a writable excel object\n",
    "        writer = csv.writer(slo, dialect='excel') # your code here\n",
    "\n",
    "        # write the first row of each column as show in the above screenshot\n",
    "        writer.writerow(('Zip', 'Feels Like', 'High', \"Low\", 'Wind', 'Humidity', 'DewPoint', 'Pressure', 'Visibility'))# your code here\n",
    "\n",
    "        # store the data\n",
    "        data = [self.zip, feels_like, high, low, wind, humidity, dewpoint, pressure, visibility]# your code here\n",
    "        print(data)    \n",
    "        # write the data to the csv \n",
    "        writer.writerow(data)# your code here\n",
    "\n",
    "        # close the csv file\n",
    "        slo.close()"
   ]
  },
  {
   "cell_type": "code",
   "execution_count": 46,
   "metadata": {},
   "outputs": [
    {
     "name": "stdout",
     "output_type": "stream",
     "text": [
      "['93405', '51°', '--', '52°', 'W 6 mph ', '69%', '43°', '29.92 in ', '10.0 mi']\n",
      "['10026', '60°', '--', '59°', 'SSW 4 mph ', '78%', '54°', '29.99 in ', '10.0 mi']\n"
     ]
    }
   ],
   "source": [
    "\n",
    "# Instantiate two instances of the class Weather SLO(93405) and Harlem(10026). Call the method to_csv(). \n",
    "SLO = Weather(93405)\n",
    "SLO.to_csv()\n",
    "\n",
    "Harlem = Weather(10026)# your code here\n",
    "Harlem.to_csv()# your code here"
   ]
  },
  {
   "cell_type": "code",
   "execution_count": null,
   "metadata": {},
   "outputs": [],
   "source": []
  }
 ],
 "metadata": {
  "kernelspec": {
   "display_name": "Python 3",
   "language": "python",
   "name": "python3"
  },
  "language_info": {
   "codemirror_mode": {
    "name": "ipython",
    "version": 3
   },
   "file_extension": ".py",
   "mimetype": "text/x-python",
   "name": "python",
   "nbconvert_exporter": "python",
   "pygments_lexer": "ipython3",
   "version": "3.6.5"
  }
 },
 "nbformat": 4,
 "nbformat_minor": 2
}
