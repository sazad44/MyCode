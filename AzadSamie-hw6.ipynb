{
 "cells": [
  {
   "cell_type": "markdown",
   "metadata": {},
   "source": [
    "** Homework six (25 Points)**\n",
    "\n",
    "• (Reading) Ch5, Machine Learning [Python Data Science Handbook](https://jakevdp.github.io/PythonDataScienceHandbook/), up to and including Linear Regression; and the in-class reading ** cross_validation_forEconomists ** on polylearn. \n",
    "\n",
    "• (UnGraded) DataCamp chapter in Supervised Learning with scikit-learn: **Regression** and **Fine Tuning Your Model**. For the Tuning chapter focus on the lessons including and following (Hyperparameter tuning). Quiz questions will be from these chapters and the reading.\n",
    "\n",
    "• (Graded) Below notebook on fine tuning your model. If you're working in a group (max 3 people) please do submit it as a group. Submit only one assignment. You will both receive credit. This homework is longer and will count as hw6 and hw7 - 20 points. The code is very similar to our in-class exercise, therefore, points are granted for understanding of the output. "
   ]
  },
  {
   "cell_type": "code",
   "execution_count": 1,
   "metadata": {},
   "outputs": [
    {
     "name": "stderr",
     "output_type": "stream",
     "text": [
      "/Users/Sam/feelinglucky/lib/python3.6/site-packages/sklearn/cross_validation.py:41: DeprecationWarning: This module was deprecated in version 0.18 in favor of the model_selection module into which all the refactored classes and functions are moved. Also note that the interface of the new CV iterators are different from that of this module. This module will be removed in 0.20.\n",
      "  \"This module will be removed in 0.20.\", DeprecationWarning)\n",
      "/Users/Sam/feelinglucky/lib/python3.6/site-packages/sklearn/grid_search.py:42: DeprecationWarning: This module was deprecated in version 0.18 in favor of the model_selection module into which all the refactored classes and functions are moved. This module will be removed in 0.20.\n",
      "  DeprecationWarning)\n"
     ]
    }
   ],
   "source": [
    "# Import Modules\n",
    "import numpy as np\n",
    "import pandas as pd\n",
    "import matplotlib.pyplot as plt\n",
    "%matplotlib inline  \n",
    "from sklearn.linear_model import LinearRegression\n",
    "from sklearn.linear_model import Ridge\n",
    "from sklearn.linear_model import RidgeCV\n",
    "from sklearn.grid_search import GridSearchCV\n",
    "from sklearn.cross_validation import KFold\n",
    "from sklearn.cross_validation import cross_val_score\n",
    "from sklearn.metrics import mean_squared_error\n",
    "from sklearn.cross_validation import train_test_split\n",
    "from sklearn.preprocessing import PolynomialFeatures"
   ]
  },
  {
   "cell_type": "code",
   "execution_count": 2,
   "metadata": {},
   "outputs": [],
   "source": [
    "# Load the Ladybug data\n",
    "'''In 1983 an article was published about ladybird beetles and their \n",
    "behavior changes under different temperature conditions (N. H. Copp. Animal Behavior, 31,:424-430). \n",
    "An experiment was run to see how many beetles stayed in light as temperature changed.\n",
    "'''\n",
    "\n",
    "# Read the CSV file into a DataFrame: df\n",
    "df = pd.read_csv(\"LadyBugs.csv\")\n",
    "\n",
    "# Create arrays for features (Lighted) and target variable (Temp)\n",
    "y = df[['Lighted']]\n",
    "X = df[['Temp']]"
   ]
  },
  {
   "cell_type": "code",
   "execution_count": 3,
   "metadata": {},
   "outputs": [
    {
     "data": {
      "text/html": [
       "<div>\n",
       "<style scoped>\n",
       "    .dataframe tbody tr th:only-of-type {\n",
       "        vertical-align: middle;\n",
       "    }\n",
       "\n",
       "    .dataframe tbody tr th {\n",
       "        vertical-align: top;\n",
       "    }\n",
       "\n",
       "    .dataframe thead th {\n",
       "        text-align: right;\n",
       "    }\n",
       "</style>\n",
       "<table border=\"1\" class=\"dataframe\">\n",
       "  <thead>\n",
       "    <tr style=\"text-align: right;\">\n",
       "      <th></th>\n",
       "      <th>Temp</th>\n",
       "      <th>Lighted</th>\n",
       "    </tr>\n",
       "  </thead>\n",
       "  <tbody>\n",
       "    <tr>\n",
       "      <th>0</th>\n",
       "      <td>-2</td>\n",
       "      <td>28</td>\n",
       "    </tr>\n",
       "    <tr>\n",
       "      <th>1</th>\n",
       "      <td>-1</td>\n",
       "      <td>29</td>\n",
       "    </tr>\n",
       "    <tr>\n",
       "      <th>2</th>\n",
       "      <td>0</td>\n",
       "      <td>22</td>\n",
       "    </tr>\n",
       "    <tr>\n",
       "      <th>3</th>\n",
       "      <td>1</td>\n",
       "      <td>28</td>\n",
       "    </tr>\n",
       "    <tr>\n",
       "      <th>4</th>\n",
       "      <td>2</td>\n",
       "      <td>34</td>\n",
       "    </tr>\n",
       "  </tbody>\n",
       "</table>\n",
       "</div>"
      ],
      "text/plain": [
       "   Temp  Lighted\n",
       "0    -2       28\n",
       "1    -1       29\n",
       "2     0       22\n",
       "3     1       28\n",
       "4     2       34"
      ]
     },
     "execution_count": 3,
     "metadata": {},
     "output_type": "execute_result"
    }
   ],
   "source": [
    "# Show the first 5 observations (1 point)\n",
    "df.head()# your code here"
   ]
  },
  {
   "cell_type": "markdown",
   "metadata": {
    "collapsed": true
   },
   "source": [
    "# Linear Regression, Part I  "
   ]
  },
  {
   "cell_type": "code",
   "execution_count": 4,
   "metadata": {},
   "outputs": [
    {
     "name": "stderr",
     "output_type": "stream",
     "text": [
      "/Users/Sam/feelinglucky/lib/python3.6/site-packages/scipy/linalg/basic.py:1226: RuntimeWarning: internal gelsd driver lwork query error, required iwork dimension not returned. This is likely the result of LAPACK bug 0038, fixed in LAPACK 3.2.2 (released July 21, 2010). Falling back to 'gelss' driver.\n",
      "  warnings.warn(mesg, RuntimeWarning)\n"
     ]
    },
    {
     "data": {
      "text/plain": [
       "array([[0.54097855]])"
      ]
     },
     "execution_count": 4,
     "metadata": {},
     "output_type": "execute_result"
    }
   ],
   "source": [
    "# (1 point)\n",
    "# Create training and test sets with 0.3 test size\n",
    "X_train, X_test, y_train, y_test = train_test_split(X, y, test_size = 0.3)\n",
    "\n",
    "# Create linear regression object call ols\n",
    "ols = LinearRegression()\n",
    "  \n",
    "# Train the model using the training sets\n",
    "ols.fit(X_train, y_train)# your code here\n",
    "\n",
    "# Report the coefficient \n",
    "ols.coef_# your code here   "
   ]
  },
  {
   "cell_type": "markdown",
   "metadata": {},
   "source": [
    "## Plot outputs"
   ]
  },
  {
   "cell_type": "code",
   "execution_count": 5,
   "metadata": {},
   "outputs": [
    {
     "data": {
      "text/plain": [
       "<matplotlib.collections.PathCollection at 0x10bf1ee10>"
      ]
     },
     "execution_count": 5,
     "metadata": {},
     "output_type": "execute_result"
    },
    {
     "data": {
      "image/png": "[encoded data removed]",
      "text/plain": [
       "<Figure size 432x288 with 1 Axes>"
      ]
     },
     "metadata": {},
     "output_type": "display_data"
    }
   ],
   "source": [
    "# (1 point)\n",
    "# This plots the predicted ols fitted line\n",
    "min = X_test.min()\n",
    "max = X_test.max() \n",
    "predictor_space = pd.DataFrame(np.arange(min, max,  0.05))\n",
    "plt.plot(predictor_space, ols.predict(predictor_space), color='blue', linewidth=3)\n",
    "\n",
    "# Scatter plot the actual test data \n",
    "plt.scatter(X_test, y_test)# your code here\n"
   ]
  },
  {
   "cell_type": "markdown",
   "metadata": {},
   "source": [
    "## Predict on the Test data"
   ]
  },
  {
   "cell_type": "code",
   "execution_count": 6,
   "metadata": {},
   "outputs": [
    {
     "name": "stdout",
     "output_type": "stream",
     "text": [
      "R^2: 0.006138457830477506\n",
      "Root Mean Squared Error: 11.482989980431716\n"
     ]
    }
   ],
   "source": [
    "# Get the predicted y_pred using the test data\n",
    "y_pred = ols.predict(X_test)\n",
    "\n",
    "# Compute and print the R^2 and RMSE\n",
    "print(\"R^2: {}\".format(ols.score(X_test, y_test)))\n",
    "rmse = np.sqrt(mean_squared_error(y_test, y_pred))\n",
    "print(\"Root Mean Squared Error: {}\".format(rmse))"
   ]
  },
  {
   "cell_type": "markdown",
   "metadata": {},
   "source": [
    "## a. Does this plot look like a good fit to the data? # (1 point)\n",
    "    The plot seems to make some sort of fit of the data, but it is very hard to tell if it is a good fit because its variance is so low when the data is making multiple curves. The bias is very high though because it only goes in one straight direction.\n",
    "## b. What do out of sample metrics tell you? (1 point)\n",
    "    The output sample metrics tell me the line is not a good fit because the R2 is low which essentially means it doesn't fit the model very wel. The mean squared error seems to be high from the little bit of experience I have, but I would need to see other mean squared errors for different plots to conclude it is in fact high.\n",
    "### your answer here"
   ]
  },
  {
   "cell_type": "markdown",
   "metadata": {},
   "source": [
    "# Polynomial Regression, Part II"
   ]
  },
  {
   "cell_type": "code",
   "execution_count": 24,
   "metadata": {},
   "outputs": [
    {
     "name": "stdout",
     "output_type": "stream",
     "text": [
      "Dimensions of X after reshaping: (44, 16)\n"
     ]
    },
    {
     "data": {
      "text/plain": [
       "array([[ 0.00000000e+00, -5.54020979e-10,  6.80924217e-13,\n",
       "         7.82744454e-13,  8.57568478e-12,  8.66213860e-11,\n",
       "         7.81723766e-10,  5.96758534e-09,  3.45637105e-08,\n",
       "         1.13941916e-07, -2.66561434e-08,  2.51088674e-09,\n",
       "        -1.24376275e-10,  3.43066839e-12, -5.00316598e-14,\n",
       "         3.01608871e-16]])"
      ]
     },
     "execution_count": 24,
     "metadata": {},
     "output_type": "execute_result"
    }
   ],
   "source": [
    "#(2 points)\n",
    "# Reload the CSV file into a DataFrame: df\n",
    "df = pd.read_csv(\"LadyBugs.csv\")\n",
    "\n",
    "# Create arrays for features (Lighted) and target variable (Temp)\n",
    "yp = df[['Lighted']]\n",
    "Xp = df[['Temp']]\n",
    "\n",
    "# Add in 15-degree polynomial of the X variables\n",
    "poly = PolynomialFeatures(degree = 15)\n",
    "Xp = pd.DataFrame(poly.fit_transform(Xp))\n",
    "print(\"Dimensions of X after reshaping: {}\".format(Xp.shape))\n",
    "\n",
    "# Create training and test sets with .3 test size\n",
    "Xp_train, Xp_test, yp_train, yp_test = train_test_split(Xp, yp, test_size = 0.3)# your code here\n",
    "\n",
    "\n",
    "# Create linear regression object, ols2\n",
    "ols2 = LinearRegression()# your code here\n",
    "  \n",
    "# Fit the model using the training sets\n",
    "ols2.fit(Xp_train, yp_train)# your code here\n",
    "  \n",
    "# Report the coefficients\n",
    "ols2.coef_# your code here                    \n",
    "  "
   ]
  },
  {
   "cell_type": "markdown",
   "metadata": {},
   "source": [
    "## Plot outputs"
   ]
  },
  {
   "cell_type": "code",
   "execution_count": 8,
   "metadata": {},
   "outputs": [
    {
     "data": {
      "text/plain": [
       "<matplotlib.collections.PathCollection at 0x10c01df98>"
      ]
     },
     "execution_count": 8,
     "metadata": {},
     "output_type": "execute_result"
    },
    {
     "data": {
      "image/png": "[encoded data removed]",
      "text/plain": [
       "<Figure size 432x288 with 1 Axes>"
      ]
     },
     "metadata": {},
     "output_type": "display_data"
    }
   ],
   "source": [
    "#(1 point)\n",
    "# This plots the predicted ols fitted line\n",
    "predictor_space = pd.DataFrame(np.arange(min, max, 0.05)) # Creates prediction space on x interval\n",
    "predictor_poly = pd.DataFrame(poly.fit_transform(predictor_space)) # Creates data to predict on\n",
    "plt.plot(predictor_space, ols2.predict(predictor_poly), color='blue') # Plot fitted model \n",
    "\n",
    "# Scatter plot the actual test data\n",
    "plt.scatter(Xp_test.iloc[ :, [1]], yp_test)# your code here"
   ]
  },
  {
   "cell_type": "markdown",
   "metadata": {},
   "source": [
    "## Predict on the Test data"
   ]
  },
  {
   "cell_type": "code",
   "execution_count": 9,
   "metadata": {},
   "outputs": [
    {
     "name": "stdout",
     "output_type": "stream",
     "text": [
      "R^2: -0.22804514072207227\n",
      "Root Mean Squared Error: 14.280649331647469\n"
     ]
    }
   ],
   "source": [
    "#(1 point)\n",
    "# Predict on the test data: y_pred\n",
    "yp_pred = ols2.predict(Xp_test)# your code here\n",
    "\n",
    "# Compute and print R^2 and RMSE\n",
    "print(\"R^2: {}\".format(ols2.score(Xp_test, yp_test)))\n",
    "rmsep = np.sqrt(mean_squared_error(yp_test, yp_pred))\n",
    "print(\"Root Mean Squared Error: {}\".format(rmsep))# your code here"
   ]
  },
  {
   "cell_type": "markdown",
   "metadata": {},
   "source": [
    "## a. Does this plot look better than the previous OLS plot? (1 point)\n",
    "    This plot may look a little more appropriate for the data, but it is just the opposite extreme from the straight line in the previous fit. This line is overfit to the data trying to account for every variation in the data. It has low bias, but its variance is too high to be practical for other sets of data.\n",
    "## b. Why? What do out of sample metrics tell you? (1 point)\n",
    "    The out of sample metrics say that the fit is terrible with R2 being as low as it is and the mean squared error is even higher than the linear fit in the previous graph making this a worse Linear Regression model.\n",
    "### your answer here"
   ]
  },
  {
   "cell_type": "markdown",
   "metadata": {},
   "source": [
    "# Ridge Regression, Part III"
   ]
  },
  {
   "cell_type": "code",
   "execution_count": 14,
   "metadata": {},
   "outputs": [
    {
     "name": "stdout",
     "output_type": "stream",
     "text": [
      "Dimensions of X after reshaping: (44, 16)\n"
     ]
    },
    {
     "data": {
      "text/plain": [
       "array([[ 0.00000000e+00,  1.21727381e+00, -6.46085529e-04,\n",
       "        -3.18604565e-04, -1.07800978e-05, -2.79637370e-07,\n",
       "        -6.41609303e-09, -1.32053763e-10, -2.28848347e-12,\n",
       "        -2.38294658e-14,  4.74842603e-16,  4.57997142e-17,\n",
       "         2.21249117e-18,  8.87004926e-20,  3.25604057e-21,\n",
       "         1.13532810e-22]])"
      ]
     },
     "execution_count": 14,
     "metadata": {},
     "output_type": "execute_result"
    }
   ],
   "source": [
    "#(1 point)\n",
    "# Read the CSV file into a DataFrame: df\n",
    "df = pd.read_csv(\"LadyBugs.csv\")# your code here\n",
    "\n",
    "# Create arrays for features (Lighted) and target variable (Temp)\n",
    "yr = df[['Lighted']]# your code here\n",
    "Xr = df[['Temp']]\n",
    "\n",
    "# Add in 15-degree polynomial of the X variables\n",
    "poly = PolynomialFeatures(degree = 15)\n",
    "Xr = pd.DataFrame(poly.fit_transform(Xr))\n",
    "print(\"Dimensions of X after reshaping: {}\".format(Xr.shape))# your code here\n",
    "  \n",
    "# Create training and test sets\n",
    "#print(Xr)\n",
    "#print(yr)\n",
    "Xr_train, Xr_test, yr_train, yr_test = train_test_split(Xr, yr, test_size = 0.3)# your code here\n",
    "#Xr_train = np.array(yr).reshape(len(Xr), 1).astype(np.float)\n",
    "#yr_train = np.array(Xr)\n",
    "\n",
    "#Xr_train = Xr_train.transpose()\n",
    "#yr_train = yr_train.transpose()\n",
    "# Create a ridge regressor object called ridge with lambda = 0.1\n",
    "ridge = Ridge(normalize = True, alpha = 0.1)\n",
    "\n",
    "# Train the ridge model using the training sets (the polynomial factors are in the data)\n",
    "#print (Xr_train)\n",
    "#print (yr_train)\n",
    "ridge.fit(Xr_train, yr_train)# your code here\n",
    "\n",
    "# The coefficients\n",
    "ridge.coef_# your code here"
   ]
  },
  {
   "cell_type": "markdown",
   "metadata": {},
   "source": [
    "## Plot outputs"
   ]
  },
  {
   "cell_type": "code",
   "execution_count": 18,
   "metadata": {},
   "outputs": [
    {
     "name": "stdout",
     "output_type": "stream",
     "text": [
      "R^2: 0.10918320205972155\n",
      "Root Mean Squared Error: 9.33274166132209\n"
     ]
    },
    {
     "data": {
      "image/png": "[encoded data removed]",
      "text/plain": [
       "<Figure size 432x288 with 1 Axes>"
      ]
     },
     "metadata": {},
     "output_type": "display_data"
    }
   ],
   "source": [
    "#(1 point)\n",
    "# This plots the predicted ols fitted line\n",
    "predictor_space = pd.DataFrame(np.arange(min, max, 0.05))# your code here (see code above in Part II plot outputs for help)\n",
    "predictor_poly = pd.DataFrame(poly.fit_transform(predictor_space))\n",
    "plt.plot(predictor_space, ridge.predict(predictor_poly), color='blue')\n",
    "# Scatter plot the actual test data\n",
    "plt.scatter(Xr_test.iloc[ : , [1]], yr_test)# your code here\n",
    "\n",
    "yr_pred = ridge.predict(Xr_test)\n",
    "\n",
    "print(\"R^2: {}\".format(ridge.score(Xr_test, yr_test)))\n",
    "rmser = np.sqrt(mean_squared_error(yr_test, yr_pred))\n",
    "print(\"Root Mean Squared Error: {}\".format(rmser))"
   ]
  },
  {
   "cell_type": "markdown",
   "metadata": {},
   "source": [
    "## a. Does this plot look better than the previous Polynomial plot? (1 point)\n",
    "    The plot definitely looks better as if it is demonstrating general trends in the data but not fitting too closesly. It definitely is more balanced when it comes to variance and bias.\n",
    "## b. Why? What do out of sample metrics tell you? (1 point)\n",
    "    Out of sample metrics tell me the fit is still not very good with the R2 being so low, but the mean squared error is definitely better to a degree from those above 10 from the graphs before.\n",
    "### your answer here"
   ]
  },
  {
   "cell_type": "markdown",
   "metadata": {},
   "source": [
    "# Get the 5 fold CV Scores (R2) for all 3 models"
   ]
  },
  {
   "cell_type": "code",
   "execution_count": 20,
   "metadata": {},
   "outputs": [
    {
     "name": "stdout",
     "output_type": "stream",
     "text": [
      "Cross-validated OLS scores: [-30.75075459  -0.04556113 -14.29669246  -2.24972457 -29.57476511]\n",
      "Cross_validated OLS2 scores: [-2.54035612e+01 -5.03616771e-03 -1.74024921e+01 -3.37559173e+01\n",
      " -9.09222454e+14]\n",
      "Cross_validated Ridge scores: [-2.33809737e+01  2.19479692e-01 -1.09999672e+01 -4.16344039e-01\n",
      " -7.06842774e+04]\n"
     ]
    }
   ],
   "source": [
    "#(1 points)\n",
    "\n",
    "#ols\n",
    "ols_scores = cross_val_score(ols, X, y, cv = 5, scoring = 'r2')\n",
    "print(\"Cross-validated OLS scores:\", ols_scores)\n",
    "\n",
    "#ols2\n",
    "poly_scores = cross_val_score(ols2, Xp, yp, cv = 5, scoring = 'r2')# your code here\n",
    "print(\"Cross_validated OLS2 scores:\", poly_scores)# your code here\n",
    "\n",
    "# ridge\n",
    "ridge_scores = cross_val_score(ridge, Xr, yr, cv = 5, scoring = 'r2')# your code here\n",
    "print(\"Cross_validated Ridge scores:\", ridge_scores)# your code here"
   ]
  },
  {
   "cell_type": "markdown",
   "metadata": {},
   "source": [
    "## Explain which model if any is best and why. (1 point)\n",
    "    None of them are very good considering many if not all of their R2 values come out negative demonstrating bad fits. But, if I had to choose it would be the ridge model because it has one positive fit and the spread across the R2 values is kept minimal compared to the larger numbers for the other fits. \n",
    "### your answer here"
   ]
  },
  {
   "cell_type": "markdown",
   "metadata": {},
   "source": [
    "# Hyper Tune Lambda, K-fold Grid Search, Ridge Regression, Part IV"
   ]
  },
  {
   "cell_type": "code",
   "execution_count": 21,
   "metadata": {},
   "outputs": [
    {
     "data": {
      "text/plain": [
       "Ridge(alpha=0.001, copy_X=True, fit_intercept=True, max_iter=None,\n",
       "   normalize=True, random_state=None, solver='auto', tol=0.001)"
      ]
     },
     "execution_count": 21,
     "metadata": {},
     "output_type": "execute_result"
    }
   ],
   "source": [
    "#(4 points)\n",
    "\n",
    "# Read the CSV file into a DataFrame: df\n",
    "df = pd.read_csv(\"LadyBugs.csv\")# your code here\n",
    "\n",
    "# Create arrays for features (Lighted) and target variable (Temp)\n",
    "X = df[['Temp']]# your code here\n",
    "y = df[['Lighted']]\n",
    "\n",
    "# Add in 15-degree polynomial of the X variables\n",
    "poly = PolynomialFeatures(degree = 15)# your code here\n",
    "X = pd.DataFrame(poly.fit_transform(X))\n",
    "# Create training and test sets\n",
    "X_train, X_test, y_train, y_test = train_test_split(X, y, test_size = 0.3)\n",
    "\n",
    "# Setup a grid of lambdas (aka alphas) called param_grid\n",
    "param_grid = {'alpha': np.linspace(0.001, 2.0, num = 20)}\n",
    "\n",
    "# Create a ridge regressor object called ridge\n",
    "ridge = Ridge(normalize = True) \n",
    "\n",
    "# Setup the GridSearchCV object called grid_ridge for 5 folds using the param_grid above\n",
    "grid_ridge = GridSearchCV(ridge, param_grid, cv = 5)\n",
    "\n",
    "# Train the model using the training sets 6 folds for all lambdas!\n",
    "grid = grid_ridge.fit(X_train, y_train)\n",
    "\n",
    "#Get the best lambda\n",
    "best = grid.best_params_# your code here\n",
    "\n",
    "# Create a final ridge regressor object called ridge_final using the best lambda from hypertuning\n",
    "ridge_final = Ridge(alpha = best['alpha'], normalize = True)\n",
    "\n",
    "# Now fit this model on the test data \n",
    "ridge_final.fit(X_test, y_test)# your code here\n"
   ]
  },
  {
   "cell_type": "markdown",
   "metadata": {},
   "source": [
    "## Plot outputs"
   ]
  },
  {
   "cell_type": "code",
   "execution_count": 22,
   "metadata": {},
   "outputs": [
    {
     "data": {
      "text/plain": [
       "<matplotlib.collections.PathCollection at 0x10c4bed30>"
      ]
     },
     "execution_count": 22,
     "metadata": {},
     "output_type": "execute_result"
    },
    {
     "data": {
      "image/png": "[encoded data removed]",
      "text/plain": [
       "<Figure size 432x288 with 1 Axes>"
      ]
     },
     "metadata": {},
     "output_type": "display_data"
    }
   ],
   "source": [
    "#(1 point)\n",
    "predictor_space = pd.DataFrame(np.arange(min, max, 0.05)) # Creates prediction space on x interval\n",
    "predictor_poly = pd.DataFrame(poly.fit_transform(predictor_space)) # Creates data to predict on\n",
    "plt.plot(predictor_space, ridge_final.predict(predictor_poly), color='blue') # Plot fitted model \n",
    "\n",
    "# Scatter plot the actual test data\n",
    "plt.scatter(X_test.iloc[ : , [1]], y_test, color = 'black')# your code here"
   ]
  },
  {
   "cell_type": "markdown",
   "metadata": {},
   "source": [
    "## Final scores given tuned lambda"
   ]
  },
  {
   "cell_type": "code",
   "execution_count": 23,
   "metadata": {},
   "outputs": [
    {
     "name": "stdout",
     "output_type": "stream",
     "text": [
      "R^2: 0.8474607930621084\n",
      "Root Mean Squared Error: 5.703896361990161\n"
     ]
    }
   ],
   "source": [
    "#(1 point)\n",
    "# Predict on the test data: y_pred\n",
    "# your code here\n",
    "y_pred = ridge_final.predict(X_test)# your code here\n",
    "\n",
    "# Compute and print R^2 and RMSE\n",
    "print(\"R^2: {}\".format(ridge_final.score(X_test, y_test)))\n",
    "rmse = np.sqrt(mean_squared_error(y_test, y_pred))\n",
    "print(\"Root Mean Squared Error: {}\".format(rmse))\n",
    "# Compute and print R^2 and RMSE\n",
    "# your code here"
   ]
  },
  {
   "cell_type": "markdown",
   "metadata": {},
   "source": [
    "## a. How does your final score (R2) compare to before? (1 point)\n",
    "    The final R2 value is much better, closer to 1 than before, indicating a hyper-tuned lambda gives us a more accurate and better fitting polynomial to predict data based on the training data. Random test data seems to be fit well based on the training data showing the regression is fairly accurate.\n",
    "## b. What about your fit to the data graphically? (1 point)\n",
    "    The graph looks quite accurate but not too overfit. It has a decent amount of variance but not too much and it is definitely not overly-bias with the curves it integrates.\n",
    "## c. Why do you think the fit is better or worse using Ridge and hypertuning your lambda paramater? (2 point)\n",
    "    The fit is better hyper-tuning our lambda because we choose a better lambda for the data that corresponds to good fits with the training data amongst five different folds in this case. We basically use different situations and use the lambda that gives us the most accurate or best fit results. Then, we don't bias our results by using a set of test data independent from the training data to make a significantly fair conclusion.\n",
    "### your answer here"
   ]
  },
  {
   "cell_type": "code",
   "execution_count": null,
   "metadata": {
    "collapsed": true
   },
   "outputs": [],
   "source": []
  }
 ],
 "metadata": {
  "kernelspec": {
   "display_name": "Python 3",
   "language": "python",
   "name": "python3"
  },
  "language_info": {
   "codemirror_mode": {
    "name": "ipython",
    "version": 3
   },
   "file_extension": ".py",
   "mimetype": "text/x-python",
   "name": "python",
   "nbconvert_exporter": "python",
   "pygments_lexer": "ipython3",
   "version": "3.6.5"
  }
 },
 "nbformat": 4,
 "nbformat_minor": 2
}
